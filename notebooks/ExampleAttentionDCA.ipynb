{
 "cells": [
  {
   "cell_type": "markdown",
   "id": "33149e13",
   "metadata": {},
   "source": [
    "Activate the environment of the Project."
   ]
  },
  {
   "cell_type": "code",
   "execution_count": 1,
   "id": "d0201923",
   "metadata": {},
   "outputs": [
    {
     "name": "stdout",
     "output_type": "stream",
     "text": [
      "/Users/francescocaredda/CODE/AttentionDCA.jl\n"
     ]
    }
   ],
   "source": [
    "; cd \"~\"/CODE/AttentionDCA.jl"
   ]
  },
  {
   "cell_type": "code",
   "execution_count": 2,
   "id": "38fe7d4c",
   "metadata": {},
   "outputs": [
    {
     "name": "stderr",
     "output_type": "stream",
     "text": [
      "\u001b[32m\u001b[1m  Activating\u001b[22m\u001b[39m project at `~/CODE/AttentionDCA.jl`\n"
     ]
    }
   ],
   "source": [
    "using Pkg\n",
    "Pkg.activate(\".\") #insert the path to the project"
   ]
  },
  {
   "cell_type": "markdown",
   "id": "593a6e34",
   "metadata": {},
   "source": [
    "If the package has been added to the general environment, then skip the first cell and run;"
   ]
  },
  {
   "cell_type": "code",
   "execution_count": 3,
   "id": "b015c50f",
   "metadata": {},
   "outputs": [],
   "source": [
    "using AttentionDCA\n",
    "using PyPlot #or alternatively Plots"
   ]
  },
  {
   "cell_type": "markdown",
   "id": "ba0853fd",
   "metadata": {},
   "source": [
    "# Standard version"
   ]
  },
  {
   "cell_type": "markdown",
   "id": "cb6996b8",
   "metadata": {},
   "source": [
    "To run the trainer it is possibile to pass the string to the fasta file msa as in:"
   ]
  },
  {
   "cell_type": "code",
   "execution_count": 4,
   "id": "6658198b",
   "metadata": {
    "scrolled": true
   },
   "outputs": [
    {
     "name": "stdout",
     "output_type": "stream",
     "text": [
      "removing duplicate sequences... done: 13600 -> 8871\n",
      "θ = 0.33088461264011026 threshold = 17.0\n",
      "M = 8871 N = 53 Meff = 2950.925530761646\n",
      "preprocessing took 0.29407425 seconds\n",
      "Epoch 1 loss = 253.12538 \t PPV@L = 0.453 \t First Error = 2\n",
      "Epoch 2 loss = 229.15577 \t PPV@L = 0.528 \t First Error = 3\n",
      "Epoch 3 loss = 203.69363 \t PPV@L = 0.566 \t First Error = 2\n",
      "Epoch 4 loss = 178.33528 \t PPV@L = 0.509 \t First Error = 4\n",
      "Epoch 5 loss = 158.45001 \t PPV@L = 0.528 \t First Error = 5\n",
      "Epoch 6 loss = 143.97547 \t PPV@L = 0.547 \t First Error = 7\n",
      "Epoch 7 loss = 133.01843 \t PPV@L = 0.585 \t First Error = 7\n",
      "Epoch 8 loss = 124.40283 \t PPV@L = 0.604 \t First Error = 9\n",
      "Epoch 9 loss = 117.6134 \t PPV@L = 0.66 \t First Error = 9\n",
      "Epoch 10 loss = 112.26845 \t PPV@L = 0.679 \t First Error = 9\n",
      "Epoch 11 loss = 108.04217 \t PPV@L = 0.736 \t First Error = 10\n",
      "Epoch 12 loss = 104.68374 \t PPV@L = 0.774 \t First Error = 11\n",
      "Epoch 13 loss = 101.98171 \t PPV@L = 0.811 \t First Error = 16\n",
      "Epoch 14 loss = 99.77818 \t PPV@L = 0.83 \t First Error = 19\n",
      "Epoch 15 loss = 97.95996 \t PPV@L = 0.83 \t First Error = 23\n",
      "Epoch 16 loss = 96.45002 \t PPV@L = 0.849 \t First Error = 25\n",
      "Epoch 17 loss = 95.16836 \t PPV@L = 0.849 \t First Error = 27\n",
      "Epoch 18 loss = 94.08796 \t PPV@L = 0.868 \t First Error = 25\n",
      "Epoch 19 loss = 93.15853 \t PPV@L = 0.849 \t First Error = 27\n",
      "Epoch 20 loss = 92.35561 \t PPV@L = 0.849 \t First Error = 30\n",
      "Epoch 21 loss = 91.65881 \t PPV@L = 0.868 \t First Error = 27\n",
      "Epoch 22 loss = 91.05177 \t PPV@L = 0.887 \t First Error = 28\n",
      "Epoch 23 loss = 90.5058 \t PPV@L = 0.887 \t First Error = 29\n",
      "Epoch 24 loss = 90.04506 \t PPV@L = 0.906 \t First Error = 30\n",
      "Epoch 25 loss = 89.61042 \t PPV@L = 0.925 \t First Error = 32\n",
      "Epoch 26 loss = 89.23812 \t PPV@L = 0.925 \t First Error = 34\n",
      "Epoch 27 loss = 88.89292 \t PPV@L = 0.925 \t First Error = 32\n",
      "Epoch 28 loss = 88.57658 \t PPV@L = 0.943 \t First Error = 32\n",
      "Epoch 29 loss = 88.29721 \t PPV@L = 0.962 \t First Error = 30\n",
      "Epoch 30 loss = 88.04411 \t PPV@L = 0.962 \t First Error = 36\n",
      "Epoch 31 loss = 87.81328 \t PPV@L = 0.962 \t First Error = 35\n",
      "Epoch 32 loss = 87.59045 \t PPV@L = 0.962 \t First Error = 35\n",
      "Epoch 33 loss = 87.38154 \t PPV@L = 0.962 \t First Error = 39\n",
      "Epoch 34 loss = 87.19727 \t PPV@L = 0.962 \t First Error = 43\n",
      "Epoch 35 loss = 87.02067 \t PPV@L = 0.962 \t First Error = 39\n",
      "Epoch 36 loss = 86.85352 \t PPV@L = 0.962 \t First Error = 47\n",
      "Epoch 37 loss = 86.69285 \t PPV@L = 0.962 \t First Error = 41\n",
      "Epoch 38 loss = 86.53976 \t PPV@L = 0.962 \t First Error = 44\n",
      "Epoch 39 loss = 86.39913 \t PPV@L = 0.962 \t First Error = 42\n",
      "Epoch 40 loss = 86.24487 \t PPV@L = 0.962 \t First Error = 42\n",
      "Epoch 41 loss = 86.1212 \t PPV@L = 0.962 \t First Error = 42\n",
      "Epoch 42 loss = 85.99048 \t PPV@L = 0.981 \t First Error = 46\n",
      "Epoch 43 loss = 85.87179 \t PPV@L = 0.962 \t First Error = 46\n",
      "Epoch 44 loss = 85.75801 \t PPV@L = 0.981 \t First Error = 49\n",
      "Epoch 45 loss = 85.65519 \t PPV@L = 0.981 \t First Error = 43\n",
      "Epoch 46 loss = 85.52412 \t PPV@L = 0.962 \t First Error = 51\n",
      "Epoch 47 loss = 85.42237 \t PPV@L = 1.0 \t First Error = 58\n",
      "Epoch 48 loss = 85.32844 \t PPV@L = 0.981 \t First Error = 49\n",
      "Epoch 49 loss = 85.22353 \t PPV@L = 1.0 \t First Error = 55\n",
      "Epoch 50 loss = 85.12369 \t PPV@L = 1.0 \t First Error = 58\n",
      "Epoch 51 loss = 85.03711 \t PPV@L = 1.0 \t First Error = 60\n",
      "Epoch 52 loss = 84.94836 \t PPV@L = 1.0 \t First Error = 56\n",
      "Epoch 53 loss = 84.86241 \t PPV@L = 1.0 \t First Error = 58\n",
      "Epoch 54 loss = 84.76788 \t PPV@L = 1.0 \t First Error = 58\n",
      "Epoch 55 loss = 84.6892 \t PPV@L = 1.0 \t First Error = 58\n",
      "Epoch 56 loss = 84.62338 \t PPV@L = 1.0 \t First Error = 58\n",
      "Epoch 57 loss = 84.53872 \t PPV@L = 1.0 \t First Error = 57\n",
      "Epoch 58 loss = 84.46276 \t PPV@L = 1.0 \t First Error = 57\n",
      "Epoch 59 loss = 84.39201 \t PPV@L = 1.0 \t First Error = 59\n",
      "Epoch 60 loss = 84.31981 \t PPV@L = 1.0 \t First Error = 57\n",
      "Epoch 61 loss = 84.25082 \t PPV@L = 1.0 \t First Error = 56\n",
      "Epoch 62 loss = 84.17596 \t PPV@L = 1.0 \t First Error = 57\n",
      "Epoch 63 loss = 84.10893 \t PPV@L = 1.0 \t First Error = 61\n",
      "Epoch 64 loss = 84.04131 \t PPV@L = 1.0 \t First Error = 58\n",
      "Epoch 65 loss = 83.99205 \t PPV@L = 1.0 \t First Error = 56\n",
      "Epoch 66 loss = 83.93309 \t PPV@L = 1.0 \t First Error = 60\n",
      "Epoch 67 loss = 83.86612 \t PPV@L = 1.0 \t First Error = 57\n",
      "Epoch 68 loss = 83.80597 \t PPV@L = 1.0 \t First Error = 60\n",
      "Epoch 69 loss = 83.74374 \t PPV@L = 1.0 \t First Error = 60\n",
      "Epoch 70 loss = 83.69089 \t PPV@L = 1.0 \t First Error = 59\n",
      "Epoch 71 loss = 83.64034 \t PPV@L = 1.0 \t First Error = 59\n",
      "Epoch 72 loss = 83.60789 \t PPV@L = 1.0 \t First Error = 57\n",
      "Epoch 73 loss = 83.54772 \t PPV@L = 1.0 \t First Error = 61\n",
      "Epoch 74 loss = 83.48198 \t PPV@L = 1.0 \t First Error = 59\n",
      "Epoch 75 loss = 83.43999 \t PPV@L = 1.0 \t First Error = 60\n",
      "Epoch 76 loss = 83.38791 \t PPV@L = 1.0 \t First Error = 61\n",
      "Epoch 77 loss = 83.33671 \t PPV@L = 1.0 \t First Error = 59\n",
      "Epoch 78 loss = 83.294 \t PPV@L = 1.0 \t First Error = 59\n",
      "Epoch 79 loss = 83.24184 \t PPV@L = 1.0 \t First Error = 62\n",
      "Epoch 80 loss = 83.19695 \t PPV@L = 1.0 \t First Error = 60\n",
      "Epoch 81 loss = 83.15527 \t PPV@L = 1.0 \t First Error = 63\n",
      "Epoch 82 loss = 83.11056 \t PPV@L = 1.0 \t First Error = 59\n",
      "Epoch 83 loss = 83.05537 \t PPV@L = 1.0 \t First Error = 61\n",
      "Epoch 84 loss = 83.02524 \t PPV@L = 1.0 \t First Error = 59\n",
      "Epoch 85 loss = 82.97401 \t PPV@L = 1.0 \t First Error = 58\n",
      "Epoch 86 loss = 82.94537 \t PPV@L = 1.0 \t First Error = 64\n",
      "Epoch 87 loss = 82.89296 \t PPV@L = 1.0 \t First Error = 60\n",
      "Epoch 88 loss = 82.85818 \t PPV@L = 1.0 \t First Error = 61\n",
      "Epoch 89 loss = 82.82479 \t PPV@L = 1.0 \t First Error = 64\n",
      "Epoch 90 loss = 82.79262 \t PPV@L = 1.0 \t First Error = 61\n",
      "Epoch 91 loss = 82.75026 \t PPV@L = 1.0 \t First Error = 61\n",
      "Epoch 92 loss = 82.7319 \t PPV@L = 1.0 \t First Error = 63\n",
      "Epoch 93 loss = 82.68099 \t PPV@L = 1.0 \t First Error = 61\n",
      "Epoch 94 loss = 82.64618 \t PPV@L = 1.0 \t First Error = 60\n",
      "Epoch 95 loss = 82.61866 \t PPV@L = 1.0 \t First Error = 66\n",
      "Epoch 96 loss = 82.58545 \t PPV@L = 1.0 \t First Error = 61\n",
      "Epoch 97 loss = 82.54501 \t PPV@L = 1.0 \t First Error = 60\n",
      "Epoch 98 loss = 82.51985 \t PPV@L = 1.0 \t First Error = 61\n",
      "Epoch 99 loss = 82.48402 \t PPV@L = 1.0 \t First Error = 62\n",
      "Epoch 100 loss = 82.46265 \t PPV@L = 1.0 \t First Error = 64\n"
     ]
    }
   ],
   "source": [
    "out_std = trainer(\"../DataAttentionDCA/data/PF00014/PF00014_mgap6.fasta.gz\",100,H=32, d=23,structfile=\"../DataAttentionDCA/data/PF00014/PF00014_struct.dat\");\n",
    "# regularization and learning rate are controlled by\n",
    "# η::Float64 = 0.005,\n",
    "# λ::Float64 = 0.001"
   ]
  },
  {
   "cell_type": "markdown",
   "id": "fbc3da8b",
   "metadata": {},
   "source": [
    "The argument <br>\n",
    "\n",
    "    structfile=\"../DataAttentionDCA/data/PF00014/PF00014_struct.dat\"\n",
    "\n",
    "contains the file to the structure of the prototypical protein of the MSA and it is used to evaluate the PPV"
   ]
  },
  {
   "cell_type": "markdown",
   "id": "f199d3f9",
   "metadata": {},
   "source": [
    "The output \"out_std\" contains $(Q,K,V)$ matrices with dimensions $(H,d,L)$ for $Q$ and $K$, $(H,q,q)$ for $V$, where:<br>\n",
    "\n",
    "$H=$number of heads<br>\n",
    "$d=$internal dimension<br>\n",
    "$q=$alphabet size<br>\n",
    "$L=$family length<br>"
   ]
  },
  {
   "cell_type": "markdown",
   "id": "365778e0",
   "metadata": {},
   "source": [
    "Instead of the fasta file, it is also possible to run the trainer with a Matrix of Integers representing the MSA with dimensions $(L,M)$ where $M$ is the depth of the family, and a weigth vector of dimension $M$. They should be passed as a tuple $(Z,W)$"
   ]
  },
  {
   "cell_type": "code",
   "execution_count": 5,
   "id": "ee1bd208",
   "metadata": {},
   "outputs": [],
   "source": [
    "Z,W = AttentionDCA.quickread(\"../DataAttentionDCA/data/PF00014/PF00014_mgap6.fasta.gz\");"
   ]
  },
  {
   "cell_type": "code",
   "execution_count": 6,
   "id": "82b3096a",
   "metadata": {
    "scrolled": true
   },
   "outputs": [
    {
     "name": "stdout",
     "output_type": "stream",
     "text": [
      "Epoch 1 loss = 251.94351 \t PPV@L = 0.396 \t First Error = 2\n",
      "Epoch 2 loss = 227.35899 \t PPV@L = 0.453 \t First Error = 2\n",
      "Epoch 3 loss = 201.37248 \t PPV@L = 0.415 \t First Error = 2\n",
      "Epoch 4 loss = 176.62495 \t PPV@L = 0.453 \t First Error = 2\n",
      "Epoch 5 loss = 157.55026 \t PPV@L = 0.415 \t First Error = 1\n",
      "Epoch 6 loss = 143.54297 \t PPV@L = 0.453 \t First Error = 1\n",
      "Epoch 7 loss = 132.75856 \t PPV@L = 0.453 \t First Error = 6\n",
      "Epoch 8 loss = 124.26273 \t PPV@L = 0.547 \t First Error = 5\n",
      "Epoch 9 loss = 117.58244 \t PPV@L = 0.604 \t First Error = 5\n",
      "Epoch 10 loss = 112.30051 \t PPV@L = 0.642 \t First Error = 5\n",
      "Epoch 11 loss = 108.11606 \t PPV@L = 0.642 \t First Error = 5\n",
      "Epoch 12 loss = 104.77299 \t PPV@L = 0.66 \t First Error = 4\n",
      "Epoch 13 loss = 102.062 \t PPV@L = 0.66 \t First Error = 5\n",
      "Epoch 14 loss = 99.85982 \t PPV@L = 0.66 \t First Error = 5\n",
      "Epoch 15 loss = 98.04841 \t PPV@L = 0.698 \t First Error = 5\n",
      "Epoch 16 loss = 96.54005 \t PPV@L = 0.717 \t First Error = 5\n",
      "Epoch 17 loss = 95.26385 \t PPV@L = 0.736 \t First Error = 5\n",
      "Epoch 18 loss = 94.17129 \t PPV@L = 0.774 \t First Error = 7\n",
      "Epoch 19 loss = 93.23897 \t PPV@L = 0.774 \t First Error = 7\n",
      "Epoch 20 loss = 92.43064 \t PPV@L = 0.774 \t First Error = 7\n",
      "Epoch 21 loss = 91.73387 \t PPV@L = 0.774 \t First Error = 7\n",
      "Epoch 22 loss = 91.11938 \t PPV@L = 0.774 \t First Error = 9\n",
      "Epoch 23 loss = 90.58628 \t PPV@L = 0.792 \t First Error = 10\n",
      "Epoch 24 loss = 90.11335 \t PPV@L = 0.811 \t First Error = 11\n",
      "Epoch 25 loss = 89.68153 \t PPV@L = 0.849 \t First Error = 11\n",
      "Epoch 26 loss = 89.30454 \t PPV@L = 0.849 \t First Error = 11\n",
      "Epoch 27 loss = 88.96029 \t PPV@L = 0.849 \t First Error = 13\n",
      "Epoch 28 loss = 88.65818 \t PPV@L = 0.887 \t First Error = 14\n",
      "Epoch 29 loss = 88.38625 \t PPV@L = 0.887 \t First Error = 17\n",
      "Epoch 30 loss = 88.11737 \t PPV@L = 0.906 \t First Error = 18\n",
      "Epoch 31 loss = 87.8807 \t PPV@L = 0.906 \t First Error = 20\n",
      "Epoch 32 loss = 87.66119 \t PPV@L = 0.925 \t First Error = 20\n",
      "Epoch 33 loss = 87.45634 \t PPV@L = 0.925 \t First Error = 23\n",
      "Epoch 34 loss = 87.26547 \t PPV@L = 0.925 \t First Error = 23\n",
      "Epoch 35 loss = 87.08377 \t PPV@L = 0.925 \t First Error = 23\n",
      "Epoch 36 loss = 86.90928 \t PPV@L = 0.925 \t First Error = 25\n",
      "Epoch 37 loss = 86.75915 \t PPV@L = 0.925 \t First Error = 27\n",
      "Epoch 38 loss = 86.59977 \t PPV@L = 0.925 \t First Error = 31\n",
      "Epoch 39 loss = 86.45103 \t PPV@L = 0.925 \t First Error = 26\n",
      "Epoch 40 loss = 86.32475 \t PPV@L = 0.925 \t First Error = 28\n",
      "Epoch 41 loss = 86.18336 \t PPV@L = 0.925 \t First Error = 27\n",
      "Epoch 42 loss = 86.05811 \t PPV@L = 0.962 \t First Error = 33\n",
      "Epoch 43 loss = 85.94259 \t PPV@L = 0.962 \t First Error = 33\n",
      "Epoch 44 loss = 85.82386 \t PPV@L = 0.962 \t First Error = 37\n",
      "Epoch 45 loss = 85.70518 \t PPV@L = 0.962 \t First Error = 31\n",
      "Epoch 46 loss = 85.59271 \t PPV@L = 0.962 \t First Error = 35\n",
      "Epoch 47 loss = 85.48577 \t PPV@L = 0.962 \t First Error = 43\n",
      "Epoch 48 loss = 85.38312 \t PPV@L = 0.962 \t First Error = 39\n",
      "Epoch 49 loss = 85.27196 \t PPV@L = 0.962 \t First Error = 38\n",
      "Epoch 50 loss = 85.19048 \t PPV@L = 0.962 \t First Error = 41\n",
      "Epoch 51 loss = 85.08042 \t PPV@L = 0.962 \t First Error = 39\n",
      "Epoch 52 loss = 84.98595 \t PPV@L = 0.962 \t First Error = 43\n",
      "Epoch 53 loss = 84.8947 \t PPV@L = 0.962 \t First Error = 42\n",
      "Epoch 54 loss = 84.81361 \t PPV@L = 0.962 \t First Error = 42\n",
      "Epoch 55 loss = 84.73636 \t PPV@L = 0.962 \t First Error = 45\n",
      "Epoch 56 loss = 84.65498 \t PPV@L = 0.962 \t First Error = 42\n",
      "Epoch 57 loss = 84.57212 \t PPV@L = 0.962 \t First Error = 46\n",
      "Epoch 58 loss = 84.49219 \t PPV@L = 0.962 \t First Error = 46\n",
      "Epoch 59 loss = 84.42205 \t PPV@L = 0.962 \t First Error = 45\n",
      "Epoch 60 loss = 84.33823 \t PPV@L = 0.962 \t First Error = 46\n",
      "Epoch 61 loss = 84.27723 \t PPV@L = 0.962 \t First Error = 47\n",
      "Epoch 62 loss = 84.20489 \t PPV@L = 0.962 \t First Error = 49\n",
      "Epoch 63 loss = 84.13955 \t PPV@L = 0.962 \t First Error = 47\n",
      "Epoch 64 loss = 84.07334 \t PPV@L = 0.962 \t First Error = 47\n",
      "Epoch 65 loss = 84.00244 \t PPV@L = 0.962 \t First Error = 47\n",
      "Epoch 66 loss = 83.94827 \t PPV@L = 0.962 \t First Error = 48\n",
      "Epoch 67 loss = 83.87455 \t PPV@L = 0.962 \t First Error = 47\n",
      "Epoch 68 loss = 83.82658 \t PPV@L = 0.962 \t First Error = 48\n",
      "Epoch 69 loss = 83.77077 \t PPV@L = 0.962 \t First Error = 48\n",
      "Epoch 70 loss = 83.71105 \t PPV@L = 0.962 \t First Error = 48\n",
      "Epoch 71 loss = 83.66475 \t PPV@L = 0.981 \t First Error = 49\n",
      "Epoch 72 loss = 83.60907 \t PPV@L = 0.962 \t First Error = 50\n",
      "Epoch 73 loss = 83.54666 \t PPV@L = 0.962 \t First Error = 48\n",
      "Epoch 74 loss = 83.51215 \t PPV@L = 0.981 \t First Error = 48\n",
      "Epoch 75 loss = 83.45029 \t PPV@L = 0.981 \t First Error = 53\n",
      "Epoch 76 loss = 83.39795 \t PPV@L = 0.981 \t First Error = 50\n",
      "Epoch 77 loss = 83.34565 \t PPV@L = 0.981 \t First Error = 52\n",
      "Epoch 78 loss = 83.3002 \t PPV@L = 0.981 \t First Error = 52\n",
      "Epoch 79 loss = 83.24675 \t PPV@L = 0.981 \t First Error = 51\n",
      "Epoch 80 loss = 83.20041 \t PPV@L = 0.981 \t First Error = 53\n",
      "Epoch 81 loss = 83.17589 \t PPV@L = 0.981 \t First Error = 52\n",
      "Epoch 82 loss = 83.11516 \t PPV@L = 0.981 \t First Error = 51\n",
      "Epoch 83 loss = 83.08631 \t PPV@L = 1.0 \t First Error = 54\n",
      "Epoch 84 loss = 83.02839 \t PPV@L = 0.981 \t First Error = 53\n",
      "Epoch 85 loss = 82.99895 \t PPV@L = 1.0 \t First Error = 55\n",
      "Epoch 86 loss = 82.96333 \t PPV@L = 0.962 \t First Error = 51\n",
      "Epoch 87 loss = 82.9169 \t PPV@L = 1.0 \t First Error = 56\n",
      "Epoch 88 loss = 82.90061 \t PPV@L = 1.0 \t First Error = 55\n",
      "Epoch 89 loss = 82.8702 \t PPV@L = 1.0 \t First Error = 54\n",
      "Epoch 90 loss = 82.80641 \t PPV@L = 0.981 \t First Error = 53\n",
      "Epoch 91 loss = 82.77001 \t PPV@L = 1.0 \t First Error = 54\n",
      "Epoch 92 loss = 82.72693 \t PPV@L = 0.981 \t First Error = 53\n",
      "Epoch 93 loss = 82.70612 \t PPV@L = 0.962 \t First Error = 52\n",
      "Epoch 94 loss = 82.65202 \t PPV@L = 0.981 \t First Error = 53\n",
      "Epoch 95 loss = 82.63499 \t PPV@L = 0.981 \t First Error = 53\n",
      "Epoch 96 loss = 82.59312 \t PPV@L = 1.0 \t First Error = 54\n",
      "Epoch 97 loss = 82.56546 \t PPV@L = 0.981 \t First Error = 53\n",
      "Epoch 98 loss = 82.53361 \t PPV@L = 1.0 \t First Error = 56\n",
      "Epoch 99 loss = 82.49411 \t PPV@L = 1.0 \t First Error = 55\n",
      "Epoch 100 loss = 82.45876 \t PPV@L = 1.0 \t First Error = 55\n"
     ]
    }
   ],
   "source": [
    "out_std = trainer((Z,W),100,H=32, d=23,structfile=\"../DataAttentionDCA/data/PF00014/PF00014_struct.dat\");"
   ]
  },
  {
   "cell_type": "markdown",
   "id": "0e6ca255",
   "metadata": {},
   "source": [
    "Computing and plotting the PPV"
   ]
  },
  {
   "cell_type": "code",
   "execution_count": 7,
   "id": "7f8c778c",
   "metadata": {},
   "outputs": [
    {
     "data": {
      "text/plain": [
       "attention_PPV (generic function with 3 methods)"
      ]
     },
     "execution_count": 7,
     "metadata": {},
     "output_type": "execute_result"
    }
   ],
   "source": [
    "include(\"notebooks/useful_functions.jl\")"
   ]
  },
  {
   "cell_type": "code",
   "execution_count": 8,
   "id": "db282e0d",
   "metadata": {},
   "outputs": [
    {
     "name": "stdout",
     "output_type": "stream",
     "text": [
      "l = 417\n",
      "L = 1378\n",
      "trivial contacts = 235\n"
     ]
    }
   ],
   "source": [
    "truth = AttentionDCA.compute_actualPPV(\"../DataAttentionDCA/data/PF00014/PF00014_struct.dat\"); #ideal ppv \n",
    "ppv_frobenious_norm = compute_PPV(score(out_std),\"../DataAttentionDCA/data/PF00014/PF00014_struct.dat\"); #ppv from the frobenious norm of the full interaction tensor\n",
    "ppv_attention_score = attention_PPV(out_std..., mean, \"../DataAttentionDCA/data/PF00014/PF00014_struct.dat\"); #ppv from the attention score averaged through the heads"
   ]
  },
  {
   "cell_type": "code",
   "execution_count": 9,
   "id": "1f04b2a9",
   "metadata": {},
   "outputs": [
    {
     "data": {
      "image/png": "[encoded data removed]",
      "text/plain": [
       "Figure(PyObject <Figure size 640x480 with 1 Axes>)"
      ]
     },
     "metadata": {},
     "output_type": "display_data"
    }
   ],
   "source": [
    "close(\"all\")\n",
    "semilogx(truth,\".-\")\n",
    "semilogx(ppv_frobenious_norm,\".-\")\n",
    "semilogx(ppv_attention_score,\".-\")\n",
    "legend([\"truth\", \"frobenious\", \"attention\"]);"
   ]
  },
  {
   "cell_type": "markdown",
   "id": "b5d482ba",
   "metadata": {},
   "source": [
    "# Autoregressive version"
   ]
  },
  {
   "cell_type": "markdown",
   "id": "22b10626",
   "metadata": {},
   "source": [
    "Similarly as before:"
   ]
  },
  {
   "cell_type": "code",
   "execution_count": 10,
   "id": "d4150282",
   "metadata": {
    "scrolled": true
   },
   "outputs": [
    {
     "name": "stdout",
     "output_type": "stream",
     "text": [
      "removing duplicate sequences... done: 13600 -> 8871\n",
      "θ = 0.33088461264011026 threshold = 17.0\n",
      "M = 8871 N = 53 Meff = 2950.925530761646\n",
      "preprocessing took 0.085645167 seconds\n",
      "Epoch 1 loss = 152.97641\n",
      "Epoch 2 loss = 143.29002\n",
      "Epoch 3 loss = 130.86167\n",
      "Epoch 4 loss = 119.12892\n",
      "Epoch 5 loss = 111.34824\n",
      "Epoch 6 loss = 106.10605\n",
      "Epoch 7 loss = 102.80868\n",
      "Epoch 8 loss = 100.54559\n",
      "Epoch 9 loss = 98.8703\n",
      "Epoch 10 loss = 97.58127\n",
      "Epoch 11 loss = 96.55374\n",
      "Epoch 12 loss = 95.71237\n",
      "Epoch 13 loss = 95.00283\n",
      "Epoch 14 loss = 94.39481\n",
      "Epoch 15 loss = 93.8639\n",
      "Epoch 16 loss = 93.39192\n",
      "Epoch 17 loss = 92.97226\n",
      "Epoch 18 loss = 92.59369\n",
      "Epoch 19 loss = 92.24917\n",
      "Epoch 20 loss = 91.92997\n",
      "Epoch 21 loss = 91.63365\n",
      "Epoch 22 loss = 91.3612\n",
      "Epoch 23 loss = 91.10739\n",
      "Epoch 24 loss = 90.86979\n",
      "Epoch 25 loss = 90.64277\n",
      "Epoch 26 loss = 90.42962\n",
      "Epoch 27 loss = 90.23118\n",
      "Epoch 28 loss = 90.04692\n",
      "Epoch 29 loss = 89.86892\n",
      "Epoch 30 loss = 89.70043\n",
      "Epoch 31 loss = 89.53899\n",
      "Epoch 32 loss = 89.38793\n",
      "Epoch 33 loss = 89.24093\n",
      "Epoch 34 loss = 89.0985\n",
      "Epoch 35 loss = 88.96082\n",
      "Epoch 36 loss = 88.83502\n",
      "Epoch 37 loss = 88.70572\n",
      "Epoch 38 loss = 88.58826\n",
      "Epoch 39 loss = 88.47171\n",
      "Epoch 40 loss = 88.3563\n",
      "Epoch 41 loss = 88.24855\n",
      "Epoch 42 loss = 88.14547\n",
      "Epoch 43 loss = 88.04042\n",
      "Epoch 44 loss = 87.94519\n",
      "Epoch 45 loss = 87.85271\n",
      "Epoch 46 loss = 87.75904\n",
      "Epoch 47 loss = 87.67026\n",
      "Epoch 48 loss = 87.58509\n",
      "Epoch 49 loss = 87.50369\n",
      "Epoch 50 loss = 87.42464\n",
      "Epoch 51 loss = 87.35149\n",
      "Epoch 52 loss = 87.2766\n",
      "Epoch 53 loss = 87.19925\n",
      "Epoch 54 loss = 87.12632\n",
      "Epoch 55 loss = 87.06262\n",
      "Epoch 56 loss = 87.00056\n",
      "Epoch 57 loss = 86.93133\n",
      "Epoch 58 loss = 86.86532\n",
      "Epoch 59 loss = 86.80916\n",
      "Epoch 60 loss = 86.74745\n",
      "Epoch 61 loss = 86.68755\n",
      "Epoch 62 loss = 86.62878\n",
      "Epoch 63 loss = 86.57313\n",
      "Epoch 64 loss = 86.5225\n",
      "Epoch 65 loss = 86.46226\n",
      "Epoch 66 loss = 86.41171\n",
      "Epoch 67 loss = 86.35724\n",
      "Epoch 68 loss = 86.30318\n",
      "Epoch 69 loss = 86.25276\n",
      "Epoch 70 loss = 86.2071\n",
      "Epoch 71 loss = 86.15808\n",
      "Epoch 72 loss = 86.1101\n",
      "Epoch 73 loss = 86.06258\n",
      "Epoch 74 loss = 86.01903\n",
      "Epoch 75 loss = 85.97342\n",
      "Epoch 76 loss = 85.9302\n",
      "Epoch 77 loss = 85.88092\n",
      "Epoch 78 loss = 85.84301\n",
      "Epoch 79 loss = 85.79429\n",
      "Epoch 80 loss = 85.75495\n",
      "Epoch 81 loss = 85.71297\n",
      "Epoch 82 loss = 85.67272\n",
      "Epoch 83 loss = 85.63144\n",
      "Epoch 84 loss = 85.59651\n",
      "Epoch 85 loss = 85.56582\n",
      "Epoch 86 loss = 85.51809\n",
      "Epoch 87 loss = 85.47513\n",
      "Epoch 88 loss = 85.43706\n",
      "Epoch 89 loss = 85.4011\n",
      "Epoch 90 loss = 85.37197\n",
      "Epoch 91 loss = 85.33579\n",
      "Epoch 92 loss = 85.29723\n",
      "Epoch 93 loss = 85.25873\n",
      "Epoch 94 loss = 85.21706\n",
      "Epoch 95 loss = 85.18565\n",
      "Epoch 96 loss = 85.15985\n",
      "Epoch 97 loss = 85.12462\n",
      "Epoch 98 loss = 85.08787\n",
      "Epoch 99 loss = 85.0559\n",
      "Epoch 100 loss = 85.01411\n"
     ]
    }
   ],
   "source": [
    "out_ar = artrainer(\"../DataAttentionDCA/data/PF00014/PF00014_mgap6.fasta.gz\", 100,H=32, d=23, λ=0.0001); # no structure file\n",
    "# regularization and learning rate are controlled by\n",
    "# η::Float64 = 0.005,\n",
    "# λ::Float64 = 0.0001\n",
    "# A larger regularization gives a better contact prediction, while a lower one an improved generativity"
   ]
  },
  {
   "cell_type": "markdown",
   "id": "059c08e3",
   "metadata": {},
   "source": [
    "Here the output \"out\" is a tuple, with \"out[1]\", \"out[2]\" and \"out[3]\" containing respectively the \"ArNet\", \"ArVar\" and $(Q,K,V)$ matrices. The ArNet contains the interaction tensor and field (put to zero) inferred by the model, while ArVar the parameters of the model and the family."
   ]
  },
  {
   "cell_type": "code",
   "execution_count": 11,
   "id": "c2b078ff",
   "metadata": {},
   "outputs": [
    {
     "name": "stdout",
     "output_type": "stream",
     "text": [
      "ArDCA.ArNet\n",
      "ArDCA.ArVar{Int64}\n",
      "@NamedTuple{Q::Array{Float64, 3}, K::Array{Float64, 3}, V::Array{Float64, 3}}\n"
     ]
    }
   ],
   "source": [
    "out_ar[1] |> typeof |> println\n",
    "out_ar[2] |> typeof |> println\n",
    "out_ar[3] |> typeof |> println"
   ]
  },
  {
   "cell_type": "markdown",
   "id": "74572a9f",
   "metadata": {},
   "source": [
    "Computing the epistatic score ppv:"
   ]
  },
  {
   "cell_type": "code",
   "execution_count": 12,
   "id": "bc4f0f5f",
   "metadata": {},
   "outputs": [],
   "source": [
    "ppv_epistatic = compute_PPV(out_ar[1],out_ar[2],1,\"../DataAttentionDCA/data/PF00014/PF00014_struct.dat\");"
   ]
  },
  {
   "cell_type": "code",
   "execution_count": 13,
   "id": "be187c50",
   "metadata": {},
   "outputs": [
    {
     "data": {
      "image/png": "[encoded data removed]",
      "text/plain": [
       "Figure(PyObject <Figure size 640x480 with 1 Axes>)"
      ]
     },
     "metadata": {},
     "output_type": "display_data"
    }
   ],
   "source": [
    "close(\"all\")\n",
    "semilogx(truth,\".-\")\n",
    "semilogx(ppv_epistatic,\".-\")\n",
    "semilogx(ppv_attention_score,\".-\")\n",
    "legend([\"truth\", \"epistatic score\"]);"
   ]
  },
  {
   "cell_type": "markdown",
   "id": "68c67230",
   "metadata": {},
   "source": [
    "Generativity:"
   ]
  },
  {
   "cell_type": "code",
   "execution_count": 14,
   "id": "5e6a0446",
   "metadata": {},
   "outputs": [],
   "source": [
    "#Sampling \n",
    "Zsample = sample(out_ar[1],10000);\n",
    "#Computing frequencies\n",
    "f1s, f2s = compute_freq(Zsample); #1-site, 2-site\n",
    "cs = f2s - f1s*f1s'; #2-site connected corr\n",
    "\n",
    "\n",
    "#Compare to natural MSA\n",
    "f1, f2, = compute_freq(Z,W)\n",
    "c = f2 - f1*f1';"
   ]
  },
  {
   "cell_type": "code",
   "execution_count": 15,
   "id": "dfcb0f6c",
   "metadata": {},
   "outputs": [
    {
     "data": {
      "image/png": "[encoded data removed]",
      "text/plain": [
       "Figure(PyObject <Figure size 640x480 with 1 Axes>)"
      ]
     },
     "metadata": {},
     "output_type": "display_data"
    }
   ],
   "source": [
    "plot(c[:],cs[:],\".\")\n",
    "xlabel(\"natural\")\n",
    "ylabel(\"artificial\");\n"
   ]
  },
  {
   "cell_type": "markdown",
   "id": "82e9351b",
   "metadata": {},
   "source": [
    "# Multi-Family Standard"
   ]
  },
  {
   "cell_type": "code",
   "execution_count": 16,
   "id": "9c065cbf",
   "metadata": {},
   "outputs": [
    {
     "name": "stdout",
     "output_type": "stream",
     "text": [
      "removing duplicate sequences... done: 13600 -> 8871\n",
      "θ = 0.33088461264011026 threshold = 17.0\n",
      "M = 8871 N = 53 Meff = 2950.925530761646\n",
      "removing duplicate sequences... done: 11418 -> 10886\n",
      "θ = 0.3258239720476657 threshold = 37.0\n",
      "M = 10886 N = 116 Meff = 2892.132390365238\n",
      "Epoch 1 loss PF1 = 721.22178 loss PF2 = 819.99612 -> Total loss = 1541.2179\n",
      "Epoch 2 loss PF1 = 233.90907 loss PF2 = 330.60077 -> Total loss = 564.50984\n",
      "Epoch 3 loss PF1 = 119.19711 loss PF2 = 211.69859 -> Total loss = 330.8957\n",
      "Epoch 4 loss PF1 = 96.57021 loss PF2 = 185.63278 -> Total loss = 282.20299\n",
      "Epoch 5 loss PF1 = 91.81011 loss PF2 = 177.74522 -> Total loss = 269.55533\n",
      "Epoch 6 loss PF1 = 90.08587 loss PF2 = 173.41468 -> Total loss = 263.50055\n",
      "Epoch 7 loss PF1 = 89.03517 loss PF2 = 170.11277 -> Total loss = 259.14794\n",
      "Epoch 8 loss PF1 = 88.19333 loss PF2 = 167.37756 -> Total loss = 255.57089\n",
      "Epoch 9 loss PF1 = 87.44808 loss PF2 = 164.90569 -> Total loss = 252.35377\n",
      "Epoch 10 loss PF1 = 86.85902 loss PF2 = 162.8552 -> Total loss = 249.71422\n",
      "Epoch 11 loss PF1 = 86.30379 loss PF2 = 160.71904 -> Total loss = 247.02283\n",
      "Epoch 12 loss PF1 = 85.84307 loss PF2 = 158.99215 -> Total loss = 244.83522\n",
      "Epoch 13 loss PF1 = 85.40848 loss PF2 = 157.31295 -> Total loss = 242.72143\n",
      "Epoch 14 loss PF1 = 85.0136 loss PF2 = 155.86407 -> Total loss = 240.87767\n",
      "Epoch 15 loss PF1 = 84.61041 loss PF2 = 154.5871 -> Total loss = 239.19751\n",
      "Epoch 16 loss PF1 = 84.29738 loss PF2 = 153.22345 -> Total loss = 237.52083\n",
      "Epoch 17 loss PF1 = 83.97964 loss PF2 = 152.00939 -> Total loss = 235.98903\n",
      "Epoch 18 loss PF1 = 83.68792 loss PF2 = 150.89766 -> Total loss = 234.58558\n",
      "Epoch 19 loss PF1 = 83.38265 loss PF2 = 150.01099 -> Total loss = 233.39364\n",
      "Epoch 20 loss PF1 = 83.16365 loss PF2 = 149.11051 -> Total loss = 232.27416\n",
      "Epoch 21 loss PF1 = 82.94404 loss PF2 = 148.21776 -> Total loss = 231.1618\n",
      "Epoch 22 loss PF1 = 82.61176 loss PF2 = 147.39919 -> Total loss = 230.01095\n",
      "Epoch 23 loss PF1 = 82.45517 loss PF2 = 146.53986 -> Total loss = 228.99503\n",
      "Epoch 24 loss PF1 = 82.25298 loss PF2 = 145.86655 -> Total loss = 228.11953\n",
      "Epoch 25 loss PF1 = 82.05286 loss PF2 = 145.02273 -> Total loss = 227.07559\n",
      "Epoch 26 loss PF1 = 81.87955 loss PF2 = 144.45604 -> Total loss = 226.33559\n",
      "Epoch 27 loss PF1 = 81.66443 loss PF2 = 143.88567 -> Total loss = 225.5501\n",
      "Epoch 28 loss PF1 = 81.52063 loss PF2 = 143.15356 -> Total loss = 224.67419\n",
      "Epoch 29 loss PF1 = 81.34394 loss PF2 = 142.54348 -> Total loss = 223.88742\n",
      "Epoch 30 loss PF1 = 81.2062 loss PF2 = 142.13805 -> Total loss = 223.34425\n"
     ]
    }
   ],
   "source": [
    "out_mf = multi_trainer([\"../DataAttentionDCA/data/PF00014/PF00014_mgap6.fasta.gz\", \"../DataAttentionDCA/data/PF00763/PF00763_full.fasta\"],[30,30],128,[5,18]);\n",
    "\n",
    "# Alternatively out = multi_trainer([(Z1,W1),(Z2,W2)],[n_epochs1,n_epochs2],H,[d1,d2], etc...)"
   ]
  },
  {
   "cell_type": "markdown",
   "id": "0a1c2e7b",
   "metadata": {},
   "source": [
    "The output \"out\" is a vector of [Qs,Ks] for each family and a single [V] shared across multiple families. "
   ]
  },
  {
   "cell_type": "markdown",
   "id": "b4963b9b",
   "metadata": {},
   "source": [
    "Print PPV of the two families"
   ]
  },
  {
   "cell_type": "code",
   "execution_count": null,
   "id": "c9af8fb6",
   "metadata": {},
   "outputs": [],
   "source": []
  },
  {
   "cell_type": "code",
   "execution_count": 17,
   "id": "82a7b163",
   "metadata": {},
   "outputs": [
    {
     "name": "stdout",
     "output_type": "stream",
     "text": [
      "l = 417\n",
      "L = 1378\n",
      "trivial contacts = 235\n"
     ]
    }
   ],
   "source": [
    "truth1 = AttentionDCA.compute_actualPPV(\"../DataAttentionDCA/data/PF00014/PF00014_struct.dat\");\n",
    "ppv1_frobenious = compute_PPV(score(out_mf.Qs[1], out_mf.Ks[1], out_mf.V), \"../DataAttentionDCA/data/PF00014/PF00014_struct.dat\");"
   ]
  },
  {
   "cell_type": "code",
   "execution_count": 18,
   "id": "c53515f4",
   "metadata": {},
   "outputs": [
    {
     "name": "stdout",
     "output_type": "stream",
     "text": [
      "l = 980\n",
      "L = 6670\n",
      "trivial contacts = 592\n"
     ]
    }
   ],
   "source": [
    "truth2 = AttentionDCA.compute_actualPPV(\"../DataAttentionDCA/data/PF00763/Atomic_distances_PF00763.dat\");\n",
    "ppv2_frobenious = compute_PPV(score(out_mf.Qs[2], out_mf.Ks[2], out_mf.V), \"../DataAttentionDCA/data/PF00763/Atomic_distances_PF00763.dat\");"
   ]
  },
  {
   "cell_type": "code",
   "execution_count": 19,
   "id": "46768dd6",
   "metadata": {},
   "outputs": [
    {
     "data": {
      "image/png": "[encoded data removed]",
      "text/plain": [
       "Figure(PyObject <Figure size 640x480 with 1 Axes>)"
      ]
     },
     "metadata": {},
     "output_type": "display_data"
    }
   ],
   "source": [
    "semilogx(truth1, \".-\");\n",
    "semilogx(ppv1_frobenious); title(\"fam 1\");"
   ]
  },
  {
   "cell_type": "code",
   "execution_count": 20,
   "id": "3b9f44f7",
   "metadata": {},
   "outputs": [
    {
     "data": {
      "image/png": "[encoded data removed]",
      "text/plain": [
       "Figure(PyObject <Figure size 640x480 with 1 Axes>)"
      ]
     },
     "metadata": {},
     "output_type": "display_data"
    },
    {
     "data": {
      "text/plain": [
       "PyObject Text(0.5, 1.0, 'fam 1')"
      ]
     },
     "execution_count": 20,
     "metadata": {},
     "output_type": "execute_result"
    }
   ],
   "source": [
    "semilogx(truth2, \".-\");\n",
    "semilogx(ppv2_frobenious); title(\"fam 1\")"
   ]
  },
  {
   "cell_type": "code",
   "execution_count": null,
   "id": "6e30c48f",
   "metadata": {},
   "outputs": [],
   "source": []
  }
 ],
 "metadata": {
  "kernelspec": {
   "display_name": "Julia (7) 1.10.5",
   "language": "julia",
   "name": "julia-_7_-1.10"
  },
  "language_info": {
   "file_extension": ".jl",
   "mimetype": "application/julia",
   "name": "julia",
   "version": "1.10.5"
  }
 },
 "nbformat": 4,
 "nbformat_minor": 5
}
